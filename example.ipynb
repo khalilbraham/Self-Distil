{
 "cells": [
  {
   "cell_type": "markdown",
   "id": "0568c3a4",
   "metadata": {},
   "source": [
    "# Self-Distilling Transformers: A Use Case\n",
    "\n",
    "This notebook provides a practical example of the Self-Distilling Transformers project. We will walk through the process of setting up the configuration, creating a dataset, initializing the model and trainer, and then running a short training and evaluation loop. We will also demonstrate the model pruning functionality."
   ]
  },
  {
   "cell_type": "markdown",
   "id": "60b92035",
   "metadata": {},
   "source": [
    "## 1. Setup\n",
    "\n",
    "First, let's import the necessary modules and define our configurations. We'll use smaller values for the model and training parameters to speed up this demonstration."
   ]
  },
  {
   "cell_type": "code",
   "execution_count": 8,
   "id": "9078ce1e",
   "metadata": {},
   "outputs": [
    {
     "name": "stdout",
     "output_type": "stream",
     "text": [
      "Using device: cpu\n"
     ]
    },
    {
     "name": "stderr",
     "output_type": "stream",
     "text": [
      "[nltk_data] Downloading package punkt to\n",
      "[nltk_data]     C:\\Users\\khali\\AppData\\Roaming\\nltk_data...\n",
      "[nltk_data]   Package punkt is already up-to-date!\n"
     ]
    }
   ],
   "source": [
    "import torch\n",
    "from torch.utils.data import DataLoader\n",
    "import numpy as np\n",
    "from datasets import load_dataset\n",
    "from transformers import PreTrainedTokenizerFast\n",
    "import matplotlib.pyplot as plt\n",
    "import seaborn as sns\n",
    "from tqdm.auto import tqdm\n",
    "import time\n",
    "from nltk.translate.bleu_score import sentence_bleu\n",
    "import nltk\n",
    "\n",
    "from config import ModelConfig, DistillConfig, TrainConfig\n",
    "from data import HFTextDataset  # Dataset class for WikiText and other HF datasets\n",
    "from model import GPTLike\n",
    "from distillation import SelfDistillTrainer\n",
    "from scheduler import CosineWithWarmup\n",
    "from utils import set_seed, evaluate, prune_transformer\n",
    "\n",
    "# Download necessary NLTK data\n",
    "nltk.download('punkt')\n",
    "\n",
    "# For reproducibility\n",
    "set_seed(1337)\n",
    "\n",
    "# More sophisticated model configuration\n",
    "model_cfg = ModelConfig(\n",
    "    d_model=256,      # Increased from 128\n",
    "    n_head=8,         # Increased from 4\n",
    "    d_ff=1024,        # Increased from 512\n",
    "    n_layer=6,        # Increased from 4\n",
    "    max_seq_len=128,\n",
    "    dropout=0.1,\n",
    "    vocab_size=None,  # Will be set after tokenization\n",
    ")\n",
    "\n",
    "# Enhanced distillation configuration\n",
    "distill_cfg = DistillConfig(\n",
    "    temperature=2.0,\n",
    "    lambda_kd=0.7,\n",
    "    lambda_sd=0.3,\n",
    "    projector_dim=128,\n",
    "    ema_decay=0.995,\n",
    "    freeze_milestones=None,  # Simpler schedule\n",
    "    freeze_fracs=None\n",
    ")\n",
    "\n",
    "# More extensive training configuration\n",
    "train_cfg = TrainConfig(\n",
    "    batch_size=4,\n",
    "    lr=1e-4,                # Reduced learning rate\n",
    "    warmup_steps=200,       # Adjusted warmup\n",
    "    train_steps=4000,       # More training steps\n",
    "    eval_every=500,         # Evaluate less frequently\n",
    "    log_every=100,          # Log less frequently\n",
    "    accum_steps=4,\n",
    "    amp=True,\n",
    "    layerdrop_p=0.1\n",
    ")\n",
    "\n",
    "device = torch.device('cuda' if torch.cuda.is_available() else 'cpu')\n",
    "print(f\"Using device: {device}\")"
   ]
  },
  {
   "cell_type": "code",
   "execution_count": 9,
   "id": "d8a51cbd",
   "metadata": {},
   "outputs": [
    {
     "name": "stdout",
     "output_type": "stream",
     "text": [
      "PyTorch version: 2.5.1+cpu\n",
      "CUDA available: False\n",
      "CUDA is not available to PyTorch.\n"
     ]
    }
   ],
   "source": [
    "import torch\n",
    "print(f\"PyTorch version: {torch.__version__}\")\n",
    "print(f\"CUDA available: {torch.cuda.is_available()}\")\n",
    "if torch.cuda.is_available():\n",
    "    print(f\"CUDA version used by PyTorch: {torch.version.cuda}\")\n",
    "    print(f\"GPU count: {torch.cuda.device_count()}\")\n",
    "    print(f\"GPU name: {torch.cuda.get_device_name(0)}\")\n",
    "else:\n",
    "    print(\"CUDA is not available to PyTorch.\")"
   ]
  },
  {
   "cell_type": "markdown",
   "id": "edccbc9d",
   "metadata": {},
   "source": [
    "## 2. Data\n",
    "\n",
    "We'll use the WikiText-2 dataset, which is a collection of good and featured articles from Wikipedia. This provides a more realistic training scenario compared to synthetic data. The dataset will help us evaluate the model's ability to learn proper language structure and generate coherent text."
   ]
  },
  {
   "cell_type": "code",
   "execution_count": 10,
   "id": "52a140ee",
   "metadata": {},
   "outputs": [
    {
     "name": "stderr",
     "output_type": "stream",
     "text": [
      "The tokenizer class you load from this checkpoint is not the same type as the class this function is called from. It may result in unexpected tokenization. \n",
      "The tokenizer class you load from this checkpoint is 'GPT2Tokenizer'. \n",
      "The class this function is called from is 'PreTrainedTokenizerFast'.\n"
     ]
    },
    {
     "name": "stdout",
     "output_type": "stream",
     "text": [
      "Vocabulary size: 50,257\n",
      "Training examples: 18,686\n",
      "Validation examples: 1,931\n",
      "\n",
      "Sample text from dataset:\n",
      " Janet Maslin wrote of Freewheelin ' : \" These were the songs that established [ Dylan ] as the voice of his generation — someone who implicitly understood how concerned young Americans felt about nuc...\n",
      "\n",
      "Sample text from dataset:\n",
      " Janet Maslin wrote of Freewheelin ' : \" These were the songs that established [ Dylan ] as the voice of his generation — someone who implicitly understood how concerned young Americans felt about nuc...\n"
     ]
    }
   ],
   "source": [
    "# Initialize tokenizer (using GPT-2 tokenizer as base)\n",
    "tokenizer = PreTrainedTokenizerFast.from_pretrained(\"gpt2\")\n",
    "\n",
    "# Create train and validation datasets\n",
    "train_ds = HFTextDataset('wikitext2', 'train', tokenizer, seq_len=model_cfg.max_seq_len)\n",
    "val_ds = HFTextDataset('wikitext2', 'validation', tokenizer, seq_len=model_cfg.max_seq_len)\n",
    "\n",
    "# Update vocab size in model config\n",
    "model_cfg.vocab_size = tokenizer.vocab_size\n",
    "\n",
    "# Create data loaders\n",
    "train_loader = DataLoader(\n",
    "    train_ds, \n",
    "    batch_size=train_cfg.batch_size, \n",
    "    shuffle=True,\n",
    "    num_workers=2,\n",
    "    pin_memory=True\n",
    ")\n",
    "val_loader = DataLoader(\n",
    "    val_ds, \n",
    "    batch_size=train_cfg.batch_size,\n",
    "    num_workers=2,\n",
    "    pin_memory=True\n",
    ")\n",
    "\n",
    "print(f\"Vocabulary size: {model_cfg.vocab_size:,}\")\n",
    "print(f\"Training examples: {len(train_ds):,}\")\n",
    "print(f\"Validation examples: {len(val_ds):,}\")\n",
    "\n",
    "# Show a sample from the dataset\n",
    "sample_text = tokenizer.decode(next(iter(train_loader))['input_ids'][0].tolist())\n",
    "print(\"\\nSample text from dataset:\")\n",
    "print(sample_text[:200] + \"...\")"
   ]
  },
  {
   "cell_type": "markdown",
   "id": "2926858a",
   "metadata": {},
   "source": [
    "## 3. Model and Trainer\n",
    "\n",
    "Now, we'll instantiate the `GPTLike` model and the `SelfDistillTrainer`. The trainer manages the student and teacher models, the EMA updates, and the loss calculations."
   ]
  },
  {
   "cell_type": "code",
   "execution_count": 11,
   "id": "6e7c8a06",
   "metadata": {},
   "outputs": [
    {
     "name": "stdout",
     "output_type": "stream",
     "text": [
      "Student model parameters: 30,470,656\n",
      "Predictors parameters: 395,520\n"
     ]
    }
   ],
   "source": [
    "# Create the student model\n",
    "student = GPTLike(model_cfg, layerdrop_p=train_cfg.layerdrop_p).to(device)\n",
    "\n",
    "# Create the trainer\n",
    "trainer = SelfDistillTrainer(student, distill_cfg, device)\n",
    "\n",
    "# Optimizer and scheduler\n",
    "params = [p for p in list(student.parameters()) + list(trainer.predictors.parameters()) if p.requires_grad]\n",
    "optim = torch.optim.AdamW(params, lr=train_cfg.lr, betas=train_cfg.betas, weight_decay=train_cfg.weight_decay)\n",
    "sched = CosineWithWarmup(optim, warmup_steps=train_cfg.warmup_steps, total_steps=train_cfg.train_steps)\n",
    "\n",
    "print(f\"Student model parameters: {sum(p.numel() for p in student.parameters() if p.requires_grad):,}\")\n",
    "print(f\"Predictors parameters: {sum(p.numel() for p in trainer.predictors.parameters()):,}\")"
   ]
  },
  {
   "cell_type": "markdown",
   "id": "53a05492",
   "metadata": {},
   "source": [
    "## 4. Training\n",
    "\n",
    "We'll run a short training loop. In a real scenario, this would run for many more steps."
   ]
  },
  {
   "cell_type": "code",
   "execution_count": 12,
   "id": "b7a819ed",
   "metadata": {},
   "outputs": [
    {
     "name": "stdout",
     "output_type": "stream",
     "text": [
      "--- Training Baseline Model (No Distillation) ---\n"
     ]
    },
    {
     "data": {
      "application/vnd.jupyter.widget-view+json": {
       "model_id": "60ca552ba17748788c5d89f6a8babc62",
       "version_major": 2,
       "version_minor": 0
      },
      "text/plain": [
       "Training Baseline:   0%|          | 0/4000 [00:00<?, ?it/s]"
      ]
     },
     "metadata": {},
     "output_type": "display_data"
    },
    {
     "name": "stdout",
     "output_type": "stream",
     "text": [
      "\n",
      "Evaluation at step 500: {'val_loss': 7.117149969065411, 'val_ppl': 1232.931528357289}\n",
      "\n",
      "Evaluation at step 1000: {'val_loss': 6.904604688687848, 'val_ppl': 996.8543676071735}\n",
      "\n",
      "Evaluation at step 1000: {'val_loss': 6.904604688687848, 'val_ppl': 996.8543676071735}\n",
      "\n",
      "Evaluation at step 1500: {'val_loss': 6.786885923974015, 'val_ppl': 886.149723054124}\n",
      "\n",
      "Evaluation at step 1500: {'val_loss': 6.786885923974015, 'val_ppl': 886.149723054124}\n",
      "\n",
      "Evaluation at step 2000: {'val_loss': 6.719969679356608, 'val_ppl': 828.7923815822465}\n",
      "\n",
      "Evaluation at step 2000: {'val_loss': 6.719969679356608, 'val_ppl': 828.7923815822465}\n",
      "\n",
      "Evaluation at step 2500: {'val_loss': 6.671724495186815, 'val_ppl': 789.7563618603982}\n",
      "\n",
      "Evaluation at step 2500: {'val_loss': 6.671724495186815, 'val_ppl': 789.7563618603982}\n",
      "\n",
      "Evaluation at step 3000: {'val_loss': 6.6398433878801875, 'val_ppl': 764.975179253712}\n",
      "\n",
      "Evaluation at step 3000: {'val_loss': 6.6398433878801875, 'val_ppl': 764.975179253712}\n",
      "\n",
      "Evaluation at step 3500: {'val_loss': 6.627700603279761, 'val_ppl': 755.7424195784787}\n",
      "\n",
      "Evaluation at step 3500: {'val_loss': 6.627700603279761, 'val_ppl': 755.7424195784787}\n",
      "Baseline training finished.\n",
      "Baseline training finished.\n"
     ]
    }
   ],
   "source": [
    "@torch.no_grad()\n",
    "def evaluate_baseline(model, val_loader, device):\n",
    "    model.eval()\n",
    "    losses = []\n",
    "    for batch in val_loader:\n",
    "        batch = {k: v.to(device) for k, v in batch.items()}\n",
    "        logits, _ = model(batch['input_ids'])\n",
    "        loss = torch.nn.functional.cross_entropy(logits.view(-1, logits.size(-1)), batch['labels'].view(-1))\n",
    "        losses.append(loss.item())\n",
    "    model.train()\n",
    "    val_loss = np.mean(losses)\n",
    "    return {'val_loss': val_loss, 'val_ppl': np.exp(val_loss)}\n",
    "\n",
    "# Baseline Model Training\n",
    "print(\"--- Training Baseline Model (No Distillation) ---\")\n",
    "baseline_model = GPTLike(model_cfg).to(device)\n",
    "baseline_optim = torch.optim.AdamW(baseline_model.parameters(), lr=train_cfg.lr, betas=(0.9, 0.98), weight_decay=0.1)\n",
    "baseline_sched = CosineWithWarmup(baseline_optim, warmup_steps=train_cfg.warmup_steps, total_steps=train_cfg.train_steps)\n",
    "\n",
    "baseline_history = {'train_loss': [], 'val_ppl': []}\n",
    "global_step = 0\n",
    "baseline_model.train()\n",
    "\n",
    "pbar = tqdm(total=train_cfg.train_steps, desc=\"Training Baseline\")\n",
    "while global_step < train_cfg.train_steps:\n",
    "    for batch in train_loader:\n",
    "        batch = {k: v.to(device) for k, v in batch.items()}\n",
    "        \n",
    "        baseline_optim.zero_grad()\n",
    "        \n",
    "        logits, _ = baseline_model(batch['input_ids'])\n",
    "        loss = torch.nn.functional.cross_entropy(logits.view(-1, logits.size(-1)), batch['labels'].view(-1))\n",
    "        \n",
    "        loss.backward()\n",
    "        torch.nn.utils.clip_grad_norm_(baseline_model.parameters(), 1.0)\n",
    "        baseline_optim.step()\n",
    "        baseline_sched.step()\n",
    "        \n",
    "        baseline_history['train_loss'].append(loss.item())\n",
    "        \n",
    "        if global_step % train_cfg.log_every == 0:\n",
    "            pbar.set_postfix({'loss': loss.item()})\n",
    "            \n",
    "        if global_step % train_cfg.eval_every == 0 and global_step > 0:\n",
    "            eval_stats = evaluate_baseline(baseline_model, val_loader, device)\n",
    "            baseline_history['val_ppl'].append(eval_stats['val_ppl'])\n",
    "            print(f\"\\nEvaluation at step {global_step}: {eval_stats}\")\n",
    "            baseline_model.train()\n",
    "        \n",
    "        global_step += 1\n",
    "        pbar.update(1)\n",
    "        if global_step >= train_cfg.train_steps:\n",
    "            break\n",
    "pbar.close()\n",
    "print(\"Baseline training finished.\")"
   ]
  },
  {
   "cell_type": "code",
   "execution_count": 19,
   "id": "f7439c7a",
   "metadata": {},
   "outputs": [
    {
     "name": "stdout",
     "output_type": "stream",
     "text": [
      "\n",
      "--- Training Self-Distilled Model ---\n"
     ]
    },
    {
     "data": {
      "application/vnd.jupyter.widget-view+json": {
       "model_id": "e97114f5fe9e4efca8e2893ce9e51c0c",
       "version_major": 2,
       "version_minor": 0
      },
      "text/plain": [
       "Training Distilled:   0%|          | 0/4000 [00:00<?, ?it/s]"
      ]
     },
     "metadata": {},
     "output_type": "display_data"
    },
    {
     "name": "stdout",
     "output_type": "stream",
     "text": [
      "\n",
      "Evaluation at step 500: {'val_loss': 10.193136880610053, 'val_ppl': 26719.178451707226}\n",
      "\n",
      "Evaluation at step 1000: {'val_loss': 9.927507323507937, 'val_ppl': 20486.211386116305}\n",
      "\n",
      "Evaluation at step 1000: {'val_loss': 9.927507323507937, 'val_ppl': 20486.211386116305}\n",
      "\n",
      "Evaluation at step 1500: {'val_loss': 9.864648256242646, 'val_ppl': 19238.10556939343}\n",
      "\n",
      "Evaluation at step 1500: {'val_loss': 9.864648256242646, 'val_ppl': 19238.10556939343}\n",
      "\n",
      "Evaluation at step 2000: {'val_loss': 9.807485537005753, 'val_ppl': 18169.243700674655}\n",
      "\n",
      "Evaluation at step 2000: {'val_loss': 9.807485537005753, 'val_ppl': 18169.243700674655}\n",
      "\n",
      "Evaluation at step 2500: {'val_loss': 9.771188512845562, 'val_ppl': 17521.579470375003}\n",
      "\n",
      "Evaluation at step 2500: {'val_loss': 9.771188512845562, 'val_ppl': 17521.579470375003}\n",
      "\n",
      "Evaluation at step 3000: {'val_loss': 9.755913637686467, 'val_ppl': 17255.97324661988}\n",
      "\n",
      "Evaluation at step 3000: {'val_loss': 9.755913637686467, 'val_ppl': 17255.97324661988}\n",
      "\n",
      "Evaluation at step 3500: {'val_loss': 9.745434948623057, 'val_ppl': 17076.09734620258}\n",
      "\n",
      "Evaluation at step 3500: {'val_loss': 9.745434948623057, 'val_ppl': 17076.09734620258}\n",
      "Distillation training finished.\n",
      "Distillation training finished.\n"
     ]
    }
   ],
   "source": [
    "# Self-Distillation Training\n",
    "print(\"\\n--- Training Self-Distilled Model ---\")\n",
    "global_step = 0\n",
    "student.train()\n",
    "trainer.teacher.train()\n",
    "distill_history = {'train_loss': [], 'val_ppl': []}\n",
    "\n",
    "pbar = tqdm(total=train_cfg.train_steps, desc=\"Training Distilled\")\n",
    "while global_step < train_cfg.train_steps:\n",
    "    for batch in train_loader:\n",
    "        batch = {k: v.to(device) for k, v in batch.items()}\n",
    "        \n",
    "        optim.zero_grad()\n",
    "        \n",
    "        loss, stats = trainer.compute_losses(batch, train_mode=True)\n",
    "        \n",
    "        loss.backward()\n",
    "        torch.nn.utils.clip_grad_norm_(student.parameters(), 1.0)\n",
    "        optim.step()\n",
    "        sched.step()\n",
    "        trainer.update_teacher()\n",
    "        \n",
    "        distill_history['train_loss'].append(stats['loss_total'])\n",
    "\n",
    "        if global_step % train_cfg.log_every == 0:\n",
    "            pbar.set_postfix(stats)\n",
    "            \n",
    "        if global_step % train_cfg.eval_every == 0 and global_step > 0:\n",
    "            eval_stats = evaluate(trainer, val_loader, device)\n",
    "            distill_history['val_ppl'].append(eval_stats['val_ppl'])\n",
    "            print(f\"\\nEvaluation at step {global_step}: {eval_stats}\")\n",
    "            student.train()\n",
    "        \n",
    "        global_step += 1\n",
    "        pbar.update(1)\n",
    "        if global_step >= train_cfg.train_steps:\n",
    "            break\n",
    "pbar.close()\n",
    "print(\"Distillation training finished.\")"
   ]
  },
  {
   "cell_type": "code",
   "execution_count": 20,
   "id": "e435d314",
   "metadata": {},
   "outputs": [
    {
     "name": "stdout",
     "output_type": "stream",
     "text": [
      "Original number of layers: 6\n",
      "Pruned number of layers: 3\n",
      "Kept layer indices: [0, 2, 5]\n"
     ]
    }
   ],
   "source": [
    "# Prune the student model, keeping 50% of the layers\n",
    "L = len(student.blocks)\n",
    "k = L // 2 \n",
    "keep = sorted(set([round(i * (L-1) / max(1,k-1)) for i in range(k)]))\n",
    "\n",
    "student_pruned = prune_transformer(student, keep).to(device)\n",
    "\n",
    "print(f\"Original number of layers: {L}\")\n",
    "print(f\"Pruned number of layers: {len(student_pruned.blocks)}\")\n",
    "print(f\"Kept layer indices: {keep}\")\n"
   ]
  },
  {
   "cell_type": "markdown",
   "id": "907b2880",
   "metadata": {},
   "source": [
    "## 5. Comparison and Visualization\n",
    "\n",
    "Now, let's compare the performance of the baseline model and the self-distilled model. We'll plot the training loss and validation perplexity for both."
   ]
  },
  {
   "cell_type": "code",
   "execution_count": 21,
   "id": "b6de5cbb",
   "metadata": {},
   "outputs": [
    {
     "name": "stdout",
     "output_type": "stream",
     "text": [
      "\n",
      "Inference Speed Comparison:\n",
      "Baseline model: 47.38 ms per batch\n",
      "Distilled model: 49.45 ms per batch\n",
      "Pruned model: 131.88 ms per batch\n"
     ]
    },
    {
     "data": {
      "image/png": "[encoded data removed]",
      "text/plain": [
       "<Figure size 800x500 with 1 Axes>"
      ]
     },
     "metadata": {},
     "output_type": "display_data"
    }
   ],
   "source": [
    "# Compare inference speed\n",
    "def measure_inference_speed(model, input_ids, n_runs=100):\n",
    "    model.eval()\n",
    "    with torch.no_grad():\n",
    "        # Warmup\n",
    "        for _ in range(10):\n",
    "            _ = model(input_ids)\n",
    "        \n",
    "        # Measure\n",
    "        start_time = time.time()\n",
    "        for _ in range(n_runs):\n",
    "            _ = model(input_ids)\n",
    "        end_time = time.time()\n",
    "    \n",
    "    return (end_time - start_time) / n_runs\n",
    "\n",
    "# Prepare input for speed test\n",
    "test_input = next(iter(val_loader))['input_ids'].to(device)\n",
    "\n",
    "# Measure speeds\n",
    "baseline_speed = measure_inference_speed(baseline_model, test_input)\n",
    "student_speed = measure_inference_speed(student, test_input)\n",
    "pruned_speed = measure_inference_speed(student_pruned, test_input)\n",
    "\n",
    "print(\"\\nInference Speed Comparison:\")\n",
    "print(f\"Baseline model: {baseline_speed*1000:.2f} ms per batch\")\n",
    "print(f\"Distilled model: {student_speed*1000:.2f} ms per batch\")\n",
    "print(f\"Pruned model: {pruned_speed*1000:.2f} ms per batch\")\n",
    "\n",
    "# Plot speed comparison\n",
    "plt.figure(figsize=(8, 5))\n",
    "plt.bar(['Baseline', 'Distilled', 'Pruned'], \n",
    "        [baseline_speed, student_speed, pruned_speed],\n",
    "        color=['blue', 'green', 'red'])\n",
    "plt.title('Inference Speed Comparison')\n",
    "plt.ylabel('Time per batch (seconds)')\n",
    "plt.grid(True, axis='y')\n",
    "plt.show()"
   ]
  },
  {
   "cell_type": "code",
   "execution_count": 22,
   "id": "5d1dfa9a",
   "metadata": {},
   "outputs": [],
   "source": [
    "def calculate_metrics(model, data_loader):\n",
    "    model.eval()\n",
    "    total_loss = 0\n",
    "    total_correct = 0\n",
    "    total_tokens = 0\n",
    "    perplexities = []\n",
    "    \n",
    "    with torch.no_grad():\n",
    "        for batch in data_loader:\n",
    "            input_ids = batch['input_ids'].to(device)\n",
    "            labels = batch['labels'].to(device)\n",
    "            \n",
    "            logits, _ = model(input_ids)\n",
    "            loss = torch.nn.functional.cross_entropy(logits.view(-1, logits.size(-1)), labels.view(-1))\n",
    "            \n",
    "            # Calculate accuracy\n",
    "            predictions = torch.argmax(logits[:, :-1], dim=-1)\n",
    "            correct = (predictions == labels[:, 1:]).sum().item()\n",
    "            total_correct += correct\n",
    "            total_tokens += labels[:, 1:].numel()\n",
    "            \n",
    "            # Calculate perplexity\n",
    "            total_loss += loss.item()\n",
    "            perplexity = torch.exp(loss)\n",
    "            perplexities.append(perplexity.item())\n",
    "    \n",
    "    avg_loss = total_loss / len(data_loader)\n",
    "    accuracy = total_correct / total_tokens\n",
    "    avg_perplexity = sum(perplexities) / len(perplexities)\n",
    "    \n",
    "    return {\n",
    "        'loss': avg_loss,\n",
    "        'accuracy': accuracy,\n",
    "        'perplexity': avg_perplexity\n",
    "    }"
   ]
  },
  {
   "cell_type": "code",
   "execution_count": 23,
   "id": "bf0b980c",
   "metadata": {},
   "outputs": [
    {
     "name": "stdout",
     "output_type": "stream",
     "text": [
      "Evaluation Results:\n",
      "\n",
      "Baseline Model:\n",
      "Loss: 6.6253\n",
      "Accuracy: 4.22%\n",
      "Perplexity: 796.51\n",
      "\n",
      "Distilled Model:\n",
      "Loss: 8.6693\n",
      "Accuracy: 3.80%\n",
      "Perplexity: 5984.02\n",
      "\n",
      "Pruned Model:\n",
      "Loss: 8.9243\n",
      "Accuracy: 3.74%\n",
      "Perplexity: 7712.02\n"
     ]
    },
    {
     "data": {
      "image/png": "[encoded data removed]",
      "text/plain": [
       "<Figure size 1500x500 with 3 Axes>"
      ]
     },
     "metadata": {},
     "output_type": "display_data"
    }
   ],
   "source": [
    "# Calculate metrics for all models\n",
    "baseline_metrics = calculate_metrics(baseline_model, val_loader)\n",
    "student_metrics = calculate_metrics(student, val_loader)\n",
    "pruned_metrics = calculate_metrics(student_pruned, val_loader)\n",
    "\n",
    "# Print results\n",
    "print(\"Evaluation Results:\")\n",
    "print(\"\\nBaseline Model:\")\n",
    "print(f\"Loss: {baseline_metrics['loss']:.4f}\")\n",
    "print(f\"Accuracy: {baseline_metrics['accuracy']*100:.2f}%\")\n",
    "print(f\"Perplexity: {baseline_metrics['perplexity']:.2f}\")\n",
    "\n",
    "print(\"\\nDistilled Model:\")\n",
    "print(f\"Loss: {student_metrics['loss']:.4f}\")\n",
    "print(f\"Accuracy: {student_metrics['accuracy']*100:.2f}%\")\n",
    "print(f\"Perplexity: {student_metrics['perplexity']:.2f}\")\n",
    "\n",
    "print(\"\\nPruned Model:\")\n",
    "print(f\"Loss: {pruned_metrics['loss']:.4f}\")\n",
    "print(f\"Accuracy: {pruned_metrics['accuracy']*100:.2f}%\")\n",
    "print(f\"Perplexity: {pruned_metrics['perplexity']:.2f}\")\n",
    "\n",
    "# Visualize metrics comparison\n",
    "metrics = ['Loss', 'Accuracy', 'Perplexity']\n",
    "models = ['Baseline', 'Distilled', 'Pruned']\n",
    "values = np.array([\n",
    "    [baseline_metrics['loss'], baseline_metrics['accuracy'], baseline_metrics['perplexity']],\n",
    "    [student_metrics['loss'], student_metrics['accuracy'], student_metrics['perplexity']],\n",
    "    [pruned_metrics['loss'], pruned_metrics['accuracy'], pruned_metrics['perplexity']]\n",
    "])\n",
    "\n",
    "fig, axes = plt.subplots(1, 3, figsize=(15, 5))\n",
    "for i, (metric, ax) in enumerate(zip(metrics, axes)):\n",
    "    ax.bar(models, values[:, i], color=['blue', 'green', 'red'])\n",
    "    ax.set_title(metric)\n",
    "    ax.grid(True)\n",
    "    if metric == 'Accuracy':\n",
    "        ax.set_ylim(0, 1)\n",
    "plt.tight_layout()\n",
    "plt.show()"
   ]
  },
  {
   "cell_type": "markdown",
   "id": "34f1bbac",
   "metadata": {},
   "source": [
    "## 6. Comprehensive Evaluation\n",
    "\n",
    "Let's evaluate the models using various metrics to get a complete picture of their performance."
   ]
  },
  {
   "cell_type": "code",
   "execution_count": 24,
   "id": "30d4c764",
   "metadata": {},
   "outputs": [],
   "source": [
    "# Visualize attention patterns\n",
    "def plot_attention_patterns(model, text, tokenizer):\n",
    "    model.eval()\n",
    "    tokens = tokenizer.encode(text, return_tensors='pt').to(device)\n",
    "    with torch.no_grad():\n",
    "        _, attn_weights = model(tokens)\n",
    "    \n",
    "    # Average attention weights across heads\n",
    "    avg_attn = torch.mean(attn_weights[-1], dim=1).squeeze()\n",
    "    \n",
    "    plt.figure(figsize=(10, 8))\n",
    "    sns.heatmap(avg_attn.cpu(), cmap='viridis')\n",
    "    plt.title('Last Layer Attention Pattern')\n",
    "    plt.xlabel('Key Position')\n",
    "    plt.ylabel('Query Position')\n",
    "    plt.show()"
   ]
  },
  {
   "cell_type": "code",
   "execution_count": 25,
   "id": "fc734f02",
   "metadata": {},
   "outputs": [
    {
     "name": "stdout",
     "output_type": "stream",
     "text": [
      "\n",
      "Attention patterns for baseline model:\n"
     ]
    },
    {
     "ename": "TypeError",
     "evalue": "'NoneType' object is not subscriptable",
     "output_type": "error",
     "traceback": [
      "\u001b[1;31m---------------------------------------------------------------------------\u001b[0m",
      "\u001b[1;31mTypeError\u001b[0m                                 Traceback (most recent call last)",
      "Cell \u001b[1;32mIn[25], line 3\u001b[0m\n\u001b[0;32m      1\u001b[0m sample_text \u001b[38;5;241m=\u001b[39m \u001b[38;5;124m\"\u001b[39m\u001b[38;5;124mThe development of artificial intelligence has revolutionized modern technology.\u001b[39m\u001b[38;5;124m\"\u001b[39m\n\u001b[0;32m      2\u001b[0m \u001b[38;5;28mprint\u001b[39m(\u001b[38;5;124m\"\u001b[39m\u001b[38;5;130;01m\\n\u001b[39;00m\u001b[38;5;124mAttention patterns for baseline model:\u001b[39m\u001b[38;5;124m\"\u001b[39m)\n\u001b[1;32m----> 3\u001b[0m plot_attention_patterns(baseline_model, sample_text, tokenizer)\n\u001b[0;32m      4\u001b[0m \u001b[38;5;28mprint\u001b[39m(\u001b[38;5;124m\"\u001b[39m\u001b[38;5;130;01m\\n\u001b[39;00m\u001b[38;5;124mAttention patterns for distilled model:\u001b[39m\u001b[38;5;124m\"\u001b[39m)\n\u001b[0;32m      5\u001b[0m plot_attention_patterns(student, sample_text, tokenizer)\n",
      "Cell \u001b[1;32mIn[24], line 9\u001b[0m, in \u001b[0;36mplot_attention_patterns\u001b[1;34m(model, text, tokenizer)\u001b[0m\n\u001b[0;32m      6\u001b[0m     _, attn_weights \u001b[38;5;241m=\u001b[39m model(tokens)\n\u001b[0;32m      8\u001b[0m \u001b[38;5;66;03m# Average attention weights across heads\u001b[39;00m\n\u001b[1;32m----> 9\u001b[0m avg_attn \u001b[38;5;241m=\u001b[39m torch\u001b[38;5;241m.\u001b[39mmean(attn_weights[\u001b[38;5;241m-\u001b[39m\u001b[38;5;241m1\u001b[39m], dim\u001b[38;5;241m=\u001b[39m\u001b[38;5;241m1\u001b[39m)\u001b[38;5;241m.\u001b[39msqueeze()\n\u001b[0;32m     11\u001b[0m plt\u001b[38;5;241m.\u001b[39mfigure(figsize\u001b[38;5;241m=\u001b[39m(\u001b[38;5;241m10\u001b[39m, \u001b[38;5;241m8\u001b[39m))\n\u001b[0;32m     12\u001b[0m sns\u001b[38;5;241m.\u001b[39mheatmap(avg_attn\u001b[38;5;241m.\u001b[39mcpu(), cmap\u001b[38;5;241m=\u001b[39m\u001b[38;5;124m'\u001b[39m\u001b[38;5;124mviridis\u001b[39m\u001b[38;5;124m'\u001b[39m)\n",
      "\u001b[1;31mTypeError\u001b[0m: 'NoneType' object is not subscriptable"
     ]
    }
   ],
   "source": [
    "sample_text = \"The development of artificial intelligence has revolutionized modern technology.\"\n",
    "print(\"\\nAttention patterns for baseline model:\")\n",
    "plot_attention_patterns(baseline_model, sample_text, tokenizer)\n",
    "print(\"\\nAttention patterns for distilled model:\")\n",
    "plot_attention_patterns(student, sample_text, tokenizer)"
   ]
  },
  {
   "cell_type": "code",
   "execution_count": 26,
   "id": "3dd8ff54",
   "metadata": {},
   "outputs": [
    {
     "name": "stdout",
     "output_type": "stream",
     "text": [
      "Sample generations from baseline model:\n",
      "\n",
      "Temperature 0.7:\n",
      "In the early days of artificial intelligence . \n",
      " = = \n",
      " = = = \n",
      " The first first second @-@ 000 of the same name , the other ) . The new first two time of the British on the season , and the main time , which he had been the country , the first early , the first time . The next . The number of the season , but a new group of the second of the first time , and the end of the game was also not a few , the first two , and the\n",
      "\n",
      "Temperature 0.7:\n",
      "In the early days of artificial intelligence . \n",
      " = = \n",
      " = = = \n",
      " The first first second @-@ 000 of the same name , the other ) . The new first two time of the British on the season , and the main time , which he had been the country , the first early , the first time . The next . The number of the season , but a new group of the second of the first time , and the end of the game was also not a few , the first two , and the\n",
      "\n",
      "Temperature 1.0:\n",
      "In the early days of artificial intelligence of the New York . \n",
      " = = = \n",
      " During a new title = = = = = \n",
      " The next of the United States to the main was the final , it was in 18 @,@ yard . The first game , the city was a large of this original and a new own to the next , with an attempt to the new north . The storm , this had been not be known with he was the area in a new 3 to the two . The name with the first\n",
      "\n",
      "Sample generations from distilled model:\n",
      "\n",
      "Temperature 1.0:\n",
      "In the early days of artificial intelligence of the New York . \n",
      " = = = \n",
      " During a new title = = = = = \n",
      " The next of the United States to the main was the final , it was in 18 @,@ yard . The first game , the city was a large of this original and a new own to the next , with an attempt to the new north . The storm , this had been not be known with he was the area in a new 3 to the two . The name with the first\n",
      "\n",
      "Sample generations from distilled model:\n",
      "\n",
      "Temperature 0.7:\n",
      "In the early days of artificial intelligence . \n",
      " = = = = = = = = = = = = = = = = = = = = = = = = = = = = = = = \n",
      " = = = = = = = = = = \n",
      " = = = = = = \n",
      " = = \n",
      " The Points . \n",
      " Theurances , and the first doorstep COMPLE , and a stepped . \n",
      " The colours , the first auctions thenight = = = = \n",
      " The Jackets and the detectors ,\n",
      "\n",
      "Temperature 0.7:\n",
      "In the early days of artificial intelligence . \n",
      " = = = = = = = = = = = = = = = = = = = = = = = = = = = = = = = \n",
      " = = = = = = = = = = \n",
      " = = = = = = \n",
      " = = \n",
      " The Points . \n",
      " Theurances , and the first doorstep COMPLE , and a stepped . \n",
      " The colours , the first auctions thenight = = = = \n",
      " The Jackets and the detectors ,\n",
      "\n",
      "Temperature 1.0:\n",
      "In the early days of artificial intelligence in ahov to the counterterrorism and the infancy . \n",
      " In the050 wasmits of theowers in the� @-@ , and the Furthermore of theto the United States . \n",
      " = \n",
      " = = \n",
      " = = = = = = = = = = = \n",
      " The Region , the� , and thedl , the detectors , the� the set , and the second , and a music \" on theurances , the song of the first the first . In the other\n",
      "\n",
      "Temperature 1.0:\n",
      "In the early days of artificial intelligence in ahov to the counterterrorism and the infancy . \n",
      " In the050 wasmits of theowers in the� @-@ , and the Furthermore of theto the United States . \n",
      " = \n",
      " = = \n",
      " = = = = = = = = = = = \n",
      " The Region , the� , and thedl , the detectors , the� the set , and the second , and a music \" on theurances , the song of the first the first . In the other\n"
     ]
    }
   ],
   "source": [
    "# Text generation function\n",
    "@torch.no_grad()\n",
    "def generate_text(model, tokenizer, prompt, max_length=100, temperature=0.7):\n",
    "    model.eval()\n",
    "    input_ids = tokenizer.encode(prompt, return_tensors='pt').to(device)\n",
    "    \n",
    "    for _ in range(max_length):\n",
    "        outputs = model(input_ids)\n",
    "        next_token_logits = outputs[0][0, -1, :] / temperature\n",
    "        filtered_logits = top_k_top_p_filtering(next_token_logits, top_k=50, top_p=0.9)\n",
    "        next_token = torch.multinomial(torch.softmax(filtered_logits, dim=-1), num_samples=1)\n",
    "        input_ids = torch.cat([input_ids, next_token.unsqueeze(0)], dim=1)\n",
    "        \n",
    "        if next_token.item() == tokenizer.eos_token_id:\n",
    "            break\n",
    "    \n",
    "    return tokenizer.decode(input_ids[0], skip_special_tokens=True)\n",
    "\n",
    "def top_k_top_p_filtering(logits, top_k=0, top_p=0.0, filter_value=-float('Inf')):\n",
    "    top_k = min(top_k, logits.size(-1))\n",
    "    if top_k > 0:\n",
    "        indices_to_remove = logits < torch.topk(logits, top_k)[0][..., -1, None]\n",
    "        logits[indices_to_remove] = filter_value\n",
    "    if top_p > 0.0:\n",
    "        sorted_logits, sorted_indices = torch.sort(logits, descending=True)\n",
    "        cumulative_probs = torch.cumsum(torch.softmax(sorted_logits, dim=-1), dim=-1)\n",
    "        sorted_indices_to_remove = cumulative_probs > top_p\n",
    "        sorted_indices_to_remove[..., 1:] = sorted_indices_to_remove[..., :-1].clone()\n",
    "        sorted_indices_to_remove[..., 0] = 0\n",
    "        indices_to_remove = sorted_indices[sorted_indices_to_remove]\n",
    "        logits[indices_to_remove] = filter_value\n",
    "    return logits\n",
    "\n",
    "# Generate sample texts\n",
    "print(\"Sample generations from baseline model:\")\n",
    "prompt = \"In the early days of artificial intelligence\"\n",
    "for temp in [0.7, 1.0]:\n",
    "    text = generate_text(baseline_model, tokenizer, prompt, temperature=temp)\n",
    "    print(f\"\\nTemperature {temp}:\")\n",
    "    print(text)\n",
    "\n",
    "print(\"\\nSample generations from distilled model:\")\n",
    "for temp in [0.7, 1.0]:\n",
    "    text = generate_text(student, tokenizer, prompt, temperature=temp)\n",
    "    print(f\"\\nTemperature {temp}:\")\n",
    "    print(text)"
   ]
  },
  {
   "cell_type": "markdown",
   "id": "183837a6",
   "metadata": {},
   "source": [
    "## 5. Advanced Analysis\n",
    "\n",
    "Let's perform a more detailed analysis of the models' behavior and performance."
   ]
  },
  {
   "cell_type": "code",
   "execution_count": 27,
   "id": "b3b5e75e",
   "metadata": {},
   "outputs": [
    {
     "ename": "ValueError",
     "evalue": "x and y must have same first dimension, but have shapes (8,) and (7,)",
     "output_type": "error",
     "traceback": [
      "\u001b[1;31m---------------------------------------------------------------------------\u001b[0m",
      "\u001b[1;31mValueError\u001b[0m                                Traceback (most recent call last)",
      "Cell \u001b[1;32mIn[27], line 18\u001b[0m\n\u001b[0;32m     16\u001b[0m plt\u001b[38;5;241m.\u001b[39msubplot(\u001b[38;5;241m1\u001b[39m, \u001b[38;5;241m2\u001b[39m, \u001b[38;5;241m2\u001b[39m)\n\u001b[0;32m     17\u001b[0m eval_steps \u001b[38;5;241m=\u001b[39m \u001b[38;5;28mrange\u001b[39m(train_cfg\u001b[38;5;241m.\u001b[39meval_every, train_cfg\u001b[38;5;241m.\u001b[39mtrain_steps \u001b[38;5;241m+\u001b[39m \u001b[38;5;241m1\u001b[39m, train_cfg\u001b[38;5;241m.\u001b[39meval_every)\n\u001b[1;32m---> 18\u001b[0m plt\u001b[38;5;241m.\u001b[39mplot(eval_steps, baseline_history[\u001b[38;5;124m'\u001b[39m\u001b[38;5;124mval_ppl\u001b[39m\u001b[38;5;124m'\u001b[39m], label\u001b[38;5;241m=\u001b[39m\u001b[38;5;124m'\u001b[39m\u001b[38;5;124mBaseline\u001b[39m\u001b[38;5;124m'\u001b[39m, marker\u001b[38;5;241m=\u001b[39m\u001b[38;5;124m'\u001b[39m\u001b[38;5;124mo\u001b[39m\u001b[38;5;124m'\u001b[39m)\n\u001b[0;32m     19\u001b[0m plt\u001b[38;5;241m.\u001b[39mplot(eval_steps, distill_history[\u001b[38;5;124m'\u001b[39m\u001b[38;5;124mval_ppl\u001b[39m\u001b[38;5;124m'\u001b[39m], label\u001b[38;5;241m=\u001b[39m\u001b[38;5;124m'\u001b[39m\u001b[38;5;124mSelf-Distilled\u001b[39m\u001b[38;5;124m'\u001b[39m, marker\u001b[38;5;241m=\u001b[39m\u001b[38;5;124m'\u001b[39m\u001b[38;5;124mo\u001b[39m\u001b[38;5;124m'\u001b[39m)\n\u001b[0;32m     20\u001b[0m plt\u001b[38;5;241m.\u001b[39mtitle(\u001b[38;5;124m'\u001b[39m\u001b[38;5;124mValidation Perplexity\u001b[39m\u001b[38;5;124m'\u001b[39m)\n",
      "File \u001b[1;32mc:\\Users\\khali\\anaconda3\\Lib\\site-packages\\matplotlib\\pyplot.py:3794\u001b[0m, in \u001b[0;36mplot\u001b[1;34m(scalex, scaley, data, *args, **kwargs)\u001b[0m\n\u001b[0;32m   3786\u001b[0m \u001b[38;5;129m@_copy_docstring_and_deprecators\u001b[39m(Axes\u001b[38;5;241m.\u001b[39mplot)\n\u001b[0;32m   3787\u001b[0m \u001b[38;5;28;01mdef\u001b[39;00m \u001b[38;5;21mplot\u001b[39m(\n\u001b[0;32m   3788\u001b[0m     \u001b[38;5;241m*\u001b[39margs: \u001b[38;5;28mfloat\u001b[39m \u001b[38;5;241m|\u001b[39m ArrayLike \u001b[38;5;241m|\u001b[39m \u001b[38;5;28mstr\u001b[39m,\n\u001b[1;32m   (...)\u001b[0m\n\u001b[0;32m   3792\u001b[0m     \u001b[38;5;241m*\u001b[39m\u001b[38;5;241m*\u001b[39mkwargs,\n\u001b[0;32m   3793\u001b[0m ) \u001b[38;5;241m-\u001b[39m\u001b[38;5;241m>\u001b[39m \u001b[38;5;28mlist\u001b[39m[Line2D]:\n\u001b[1;32m-> 3794\u001b[0m     \u001b[38;5;28;01mreturn\u001b[39;00m gca()\u001b[38;5;241m.\u001b[39mplot(\n\u001b[0;32m   3795\u001b[0m         \u001b[38;5;241m*\u001b[39margs,\n\u001b[0;32m   3796\u001b[0m         scalex\u001b[38;5;241m=\u001b[39mscalex,\n\u001b[0;32m   3797\u001b[0m         scaley\u001b[38;5;241m=\u001b[39mscaley,\n\u001b[0;32m   3798\u001b[0m         \u001b[38;5;241m*\u001b[39m\u001b[38;5;241m*\u001b[39m({\u001b[38;5;124m\"\u001b[39m\u001b[38;5;124mdata\u001b[39m\u001b[38;5;124m\"\u001b[39m: data} \u001b[38;5;28;01mif\u001b[39;00m data \u001b[38;5;129;01mis\u001b[39;00m \u001b[38;5;129;01mnot\u001b[39;00m \u001b[38;5;28;01mNone\u001b[39;00m \u001b[38;5;28;01melse\u001b[39;00m {}),\n\u001b[0;32m   3799\u001b[0m         \u001b[38;5;241m*\u001b[39m\u001b[38;5;241m*\u001b[39mkwargs,\n\u001b[0;32m   3800\u001b[0m     )\n",
      "File \u001b[1;32mc:\\Users\\khali\\anaconda3\\Lib\\site-packages\\matplotlib\\axes\\_axes.py:1779\u001b[0m, in \u001b[0;36mAxes.plot\u001b[1;34m(self, scalex, scaley, data, *args, **kwargs)\u001b[0m\n\u001b[0;32m   1536\u001b[0m \u001b[38;5;250m\u001b[39m\u001b[38;5;124;03m\"\"\"\u001b[39;00m\n\u001b[0;32m   1537\u001b[0m \u001b[38;5;124;03mPlot y versus x as lines and/or markers.\u001b[39;00m\n\u001b[0;32m   1538\u001b[0m \n\u001b[1;32m   (...)\u001b[0m\n\u001b[0;32m   1776\u001b[0m \u001b[38;5;124;03m(``'green'``) or hex strings (``'#008000'``).\u001b[39;00m\n\u001b[0;32m   1777\u001b[0m \u001b[38;5;124;03m\"\"\"\u001b[39;00m\n\u001b[0;32m   1778\u001b[0m kwargs \u001b[38;5;241m=\u001b[39m cbook\u001b[38;5;241m.\u001b[39mnormalize_kwargs(kwargs, mlines\u001b[38;5;241m.\u001b[39mLine2D)\n\u001b[1;32m-> 1779\u001b[0m lines \u001b[38;5;241m=\u001b[39m [\u001b[38;5;241m*\u001b[39m\u001b[38;5;28mself\u001b[39m\u001b[38;5;241m.\u001b[39m_get_lines(\u001b[38;5;28mself\u001b[39m, \u001b[38;5;241m*\u001b[39margs, data\u001b[38;5;241m=\u001b[39mdata, \u001b[38;5;241m*\u001b[39m\u001b[38;5;241m*\u001b[39mkwargs)]\n\u001b[0;32m   1780\u001b[0m \u001b[38;5;28;01mfor\u001b[39;00m line \u001b[38;5;129;01min\u001b[39;00m lines:\n\u001b[0;32m   1781\u001b[0m     \u001b[38;5;28mself\u001b[39m\u001b[38;5;241m.\u001b[39madd_line(line)\n",
      "File \u001b[1;32mc:\\Users\\khali\\anaconda3\\Lib\\site-packages\\matplotlib\\axes\\_base.py:296\u001b[0m, in \u001b[0;36m_process_plot_var_args.__call__\u001b[1;34m(self, axes, data, *args, **kwargs)\u001b[0m\n\u001b[0;32m    294\u001b[0m     this \u001b[38;5;241m+\u001b[39m\u001b[38;5;241m=\u001b[39m args[\u001b[38;5;241m0\u001b[39m],\n\u001b[0;32m    295\u001b[0m     args \u001b[38;5;241m=\u001b[39m args[\u001b[38;5;241m1\u001b[39m:]\n\u001b[1;32m--> 296\u001b[0m \u001b[38;5;28;01myield from\u001b[39;00m \u001b[38;5;28mself\u001b[39m\u001b[38;5;241m.\u001b[39m_plot_args(\n\u001b[0;32m    297\u001b[0m     axes, this, kwargs, ambiguous_fmt_datakey\u001b[38;5;241m=\u001b[39mambiguous_fmt_datakey)\n",
      "File \u001b[1;32mc:\\Users\\khali\\anaconda3\\Lib\\site-packages\\matplotlib\\axes\\_base.py:486\u001b[0m, in \u001b[0;36m_process_plot_var_args._plot_args\u001b[1;34m(self, axes, tup, kwargs, return_kwargs, ambiguous_fmt_datakey)\u001b[0m\n\u001b[0;32m    483\u001b[0m     axes\u001b[38;5;241m.\u001b[39myaxis\u001b[38;5;241m.\u001b[39mupdate_units(y)\n\u001b[0;32m    485\u001b[0m \u001b[38;5;28;01mif\u001b[39;00m x\u001b[38;5;241m.\u001b[39mshape[\u001b[38;5;241m0\u001b[39m] \u001b[38;5;241m!=\u001b[39m y\u001b[38;5;241m.\u001b[39mshape[\u001b[38;5;241m0\u001b[39m]:\n\u001b[1;32m--> 486\u001b[0m     \u001b[38;5;28;01mraise\u001b[39;00m \u001b[38;5;167;01mValueError\u001b[39;00m(\u001b[38;5;124mf\u001b[39m\u001b[38;5;124m\"\u001b[39m\u001b[38;5;124mx and y must have same first dimension, but \u001b[39m\u001b[38;5;124m\"\u001b[39m\n\u001b[0;32m    487\u001b[0m                      \u001b[38;5;124mf\u001b[39m\u001b[38;5;124m\"\u001b[39m\u001b[38;5;124mhave shapes \u001b[39m\u001b[38;5;132;01m{\u001b[39;00mx\u001b[38;5;241m.\u001b[39mshape\u001b[38;5;132;01m}\u001b[39;00m\u001b[38;5;124m and \u001b[39m\u001b[38;5;132;01m{\u001b[39;00my\u001b[38;5;241m.\u001b[39mshape\u001b[38;5;132;01m}\u001b[39;00m\u001b[38;5;124m\"\u001b[39m)\n\u001b[0;32m    488\u001b[0m \u001b[38;5;28;01mif\u001b[39;00m x\u001b[38;5;241m.\u001b[39mndim \u001b[38;5;241m>\u001b[39m \u001b[38;5;241m2\u001b[39m \u001b[38;5;129;01mor\u001b[39;00m y\u001b[38;5;241m.\u001b[39mndim \u001b[38;5;241m>\u001b[39m \u001b[38;5;241m2\u001b[39m:\n\u001b[0;32m    489\u001b[0m     \u001b[38;5;28;01mraise\u001b[39;00m \u001b[38;5;167;01mValueError\u001b[39;00m(\u001b[38;5;124mf\u001b[39m\u001b[38;5;124m\"\u001b[39m\u001b[38;5;124mx and y can be no greater than 2D, but have \u001b[39m\u001b[38;5;124m\"\u001b[39m\n\u001b[0;32m    490\u001b[0m                      \u001b[38;5;124mf\u001b[39m\u001b[38;5;124m\"\u001b[39m\u001b[38;5;124mshapes \u001b[39m\u001b[38;5;132;01m{\u001b[39;00mx\u001b[38;5;241m.\u001b[39mshape\u001b[38;5;132;01m}\u001b[39;00m\u001b[38;5;124m and \u001b[39m\u001b[38;5;132;01m{\u001b[39;00my\u001b[38;5;241m.\u001b[39mshape\u001b[38;5;132;01m}\u001b[39;00m\u001b[38;5;124m\"\u001b[39m)\n",
      "\u001b[1;31mValueError\u001b[0m: x and y must have same first dimension, but have shapes (8,) and (7,)"
     ]
    },
    {
     "data": {
      "image/png": "[encoded data removed]",
      "text/plain": [
       "<Figure size 1200x500 with 2 Axes>"
      ]
     },
     "metadata": {},
     "output_type": "display_data"
    }
   ],
   "source": [
    "import matplotlib.pyplot as plt\n",
    "\n",
    "plt.figure(figsize=(12, 5))\n",
    "\n",
    "# Plot training loss\n",
    "plt.subplot(1, 2, 1)\n",
    "plt.plot(baseline_history['train_loss'], label='Baseline')\n",
    "plt.plot(distill_history['train_loss'], label='Self-Distilled')\n",
    "plt.title('Training Loss')\n",
    "plt.xlabel('Steps')\n",
    "plt.ylabel('Loss')\n",
    "plt.legend()\n",
    "plt.grid(True)\n",
    "\n",
    "# Plot validation perplexity\n",
    "plt.subplot(1, 2, 2)\n",
    "eval_steps = range(train_cfg.eval_every, train_cfg.train_steps + 1, train_cfg.eval_every)\n",
    "plt.plot(eval_steps, baseline_history['val_ppl'], label='Baseline', marker='o')\n",
    "plt.plot(eval_steps, distill_history['val_ppl'], label='Self-Distilled', marker='o')\n",
    "plt.title('Validation Perplexity')\n",
    "plt.xlabel('Steps')\n",
    "plt.ylabel('Perplexity')\n",
    "plt.legend()\n",
    "plt.grid(True)\n",
    "\n",
    "plt.tight_layout()\n",
    "plt.show()"
   ]
  },
  {
   "cell_type": "markdown",
   "id": "ab162407",
   "metadata": {},
   "source": [
    "### Analysis of Results\n",
    "\n",
    "From the plots, we can typically observe the following:\n",
    "\n",
    "*   **Training Loss:** The self-distilled model might have a higher total training loss initially because it's optimizing a composite loss (LM + KD + SD). However, it often converges to a better solution.\n",
    "*   **Validation Perplexity:** The key benefit of self-distillation should be visible here. The distilled model is expected to achieve a lower perplexity on the validation set, indicating better generalization. The teacher model, being an EMA of the student, provides a more stable and accurate target, guiding the student to learn more robust representations."
   ]
  },
  {
   "cell_type": "markdown",
   "id": "706e4a34",
   "metadata": {},
   "source": [
    "## 7. Conclusion\n",
    "\n",
    "This notebook demonstrated the core functionalities of the Self-Distilling Transformers project. We've seen how to:\n",
    "- Configure the model, distillation, and training.\n",
    "- Create a dataset and data loaders.\n",
    "- Train a student model with a teacher model via self-distillation.\n",
    "- Evaluate the model's performance.\n",
    "- Prune the model to a smaller size."
   ]
  },
  {
   "cell_type": "code",
   "execution_count": null,
   "id": "45423c8c",
   "metadata": {},
   "outputs": [],
   "source": [
    "# Final cleanup\n",
    "import gc\n",
    "\n",
    "del student_pruned\n",
    "del new_trainer\n",
    "\n",
    "if torch.cuda.is_available():\n",
    "    torch.cuda.empty_cache()\n",
    "gc.collect()"
   ]
  }
 ],
 "metadata": {
  "kernelspec": {
   "display_name": "base",
   "language": "python",
   "name": "python3"
  },
  "language_info": {
   "codemirror_mode": {
    "name": "ipython",
    "version": 3
   },
   "file_extension": ".py",
   "mimetype": "text/x-python",
   "name": "python",
   "nbconvert_exporter": "python",
   "pygments_lexer": "ipython3",
   "version": "3.12.7"
  }
 },
 "nbformat": 4,
 "nbformat_minor": 5
}
